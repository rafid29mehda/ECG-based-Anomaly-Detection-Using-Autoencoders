{
  "metadata": {
    "kernelspec": {
      "language": "python",
      "display_name": "Python 3",
      "name": "python3"
    },
    "language_info": {
      "pygments_lexer": "ipython3",
      "nbconvert_exporter": "python",
      "version": "3.6.4",
      "file_extension": ".py",
      "codemirror_mode": {
        "name": "ipython",
        "version": 3
      },
      "name": "python",
      "mimetype": "text/x-python"
    },
    "colab": {
      "name": "ECG-Based Anomaly Detection using Autoencoders",
      "provenance": []
    }
  },
  "nbformat_minor": 0,
  "nbformat": 4,
  "cells": [
    {
      "source": [
        "# IMPORTANT: RUN THIS CELL IN ORDER TO IMPORT YOUR KAGGLE DATA SOURCES,\n",
        "# THEN FEEL FREE TO DELETE THIS CELL.\n",
        "# NOTE: THIS NOTEBOOK ENVIRONMENT DIFFERS FROM KAGGLE'S PYTHON\n",
        "# ENVIRONMENT SO THERE MAY BE MISSING LIBRARIES USED BY YOUR\n",
        "# NOTEBOOK.\n",
        "import kagglehub\n",
        "shymammoth_mitbih_normal_sinus_rhythm_database_path = kagglehub.dataset_download('shymammoth/mitbih-normal-sinus-rhythm-database')\n",
        "klmsathishkumar_mit_bih_arrhythmia_database_path = kagglehub.dataset_download('klmsathishkumar/mit-bih-arrhythmia-database')\n",
        "\n",
        "print('Data source import complete.')\n"
      ],
      "metadata": {
        "id": "rIfAK0t3WYGo"
      },
      "cell_type": "code",
      "outputs": [],
      "execution_count": null
    },
    {
      "cell_type": "markdown",
      "source": [
        "**ECG-Based Arrhythmias Anomaly Detection using Autoencoders**"
      ],
      "metadata": {
        "id": "oW7iVXgyWYGr"
      }
    },
    {
      "cell_type": "markdown",
      "source": [
        "ECG-Based Arrhythmias Anomaly Detection using Autoencoders An autoencoder is a type of neural network model that attempts to learn a compact representation of the input. Although they are an unsupervised learning method, they are technically trained using supervised learning methods, which are referred to as self-supervised. Typically, they are trained as part of a larger model that seeks to duplicate the input. The goal of an autoencoder is to train the network to capture the most important parts of the input image to learn a lower-dimensional representation for higher-dimensional data, typically for dimensionality reduction."
      ],
      "metadata": {
        "id": "Hs6hrudhm_Dq"
      }
    },
    {
      "cell_type": "code",
      "source": [
        "!pip install wfdb"
      ],
      "metadata": {
        "id": "u2Sf9tDlyvh8",
        "execution": {
          "iopub.status.busy": "2022-02-17T16:19:27.765313Z",
          "iopub.execute_input": "2022-02-17T16:19:27.765813Z",
          "iopub.status.idle": "2022-02-17T16:19:58.111306Z",
          "shell.execute_reply.started": "2022-02-17T16:19:27.765779Z",
          "shell.execute_reply": "2022-02-17T16:19:58.110157Z"
        },
        "trusted": true
      },
      "execution_count": null,
      "outputs": []
    },
    {
      "cell_type": "code",
      "source": [
        "import wfdb"
      ],
      "metadata": {
        "id": "i9vrh7A0q_83",
        "execution": {
          "iopub.status.busy": "2022-02-17T16:19:59.952351Z",
          "iopub.execute_input": "2022-02-17T16:19:59.952617Z",
          "iopub.status.idle": "2022-02-17T16:19:59.956099Z",
          "shell.execute_reply.started": "2022-02-17T16:19:59.952589Z",
          "shell.execute_reply": "2022-02-17T16:19:59.95547Z"
        },
        "trusted": true
      },
      "execution_count": null,
      "outputs": []
    },
    {
      "cell_type": "code",
      "source": [
        "pip install matplotlib==3.1.3"
      ],
      "metadata": {
        "id": "L7CyT8S-56UV",
        "execution": {
          "iopub.status.busy": "2022-02-17T12:20:46.584469Z",
          "iopub.execute_input": "2022-02-17T12:20:46.584753Z",
          "iopub.status.idle": "2022-02-17T12:23:15.969432Z",
          "shell.execute_reply.started": "2022-02-17T12:20:46.584725Z",
          "shell.execute_reply": "2022-02-17T12:23:15.96847Z"
        },
        "trusted": true
      },
      "execution_count": null,
      "outputs": []
    },
    {
      "cell_type": "code",
      "source": [
        "# Importing Required Packages\n",
        "import keras\n",
        "from keras import layers\n",
        "import pandas as pd\n",
        "import numpy as np\n",
        "import matplotlib.pyplot as plt\n",
        "from tensorflow.keras.utils import to_categorical\n",
        "import random\n",
        "import torch\n",
        "device = torch.device(\"cuda\" if torch.cuda.is_available() else \"cpu\")\n",
        "import copy\n",
        "import seaborn as sns\n",
        "from pylab import rcParams\n",
        "import matplotlib.pyplot as plt\n",
        "from matplotlib import rc\n",
        "from sklearn.model_selection import train_test_split\n",
        "import tensorflow as tf\n",
        "from sklearn.metrics import precision_score,recall_score,accuracy_score\n",
        "from tensorflow.keras import layers, losses\n",
        "from tensorflow.keras.models import Model\n",
        "import scipy.io\n",
        "from scipy.io import savemat\n",
        "# Random Initialization\n",
        "random.seed(42)"
      ],
      "metadata": {
        "id": "3UELHruJMOWe",
        "execution": {
          "iopub.status.busy": "2022-02-17T16:20:04.095065Z",
          "iopub.execute_input": "2022-02-17T16:20:04.09538Z",
          "iopub.status.idle": "2022-02-17T16:20:04.104474Z",
          "shell.execute_reply.started": "2022-02-17T16:20:04.095347Z",
          "shell.execute_reply": "2022-02-17T16:20:04.103485Z"
        },
        "trusted": true
      },
      "execution_count": null,
      "outputs": []
    },
    {
      "cell_type": "markdown",
      "source": [
        "# **Loading ECG Data**"
      ],
      "metadata": {
        "id": "Jyf_nU4gp40A"
      }
    },
    {
      "cell_type": "code",
      "source": [
        "import os\n",
        "print(os.listdir(\"../input\"))"
      ],
      "metadata": {
        "execution": {
          "iopub.status.busy": "2022-02-17T12:23:24.606709Z",
          "iopub.execute_input": "2022-02-17T12:23:24.607309Z",
          "iopub.status.idle": "2022-02-17T12:23:24.618339Z",
          "shell.execute_reply.started": "2022-02-17T12:23:24.607264Z",
          "shell.execute_reply": "2022-02-17T12:23:24.616025Z"
        },
        "trusted": true,
        "id": "QePQ8oidWYGt"
      },
      "execution_count": null,
      "outputs": []
    },
    {
      "cell_type": "markdown",
      "source": [
        "# Abnormal ECG Data"
      ],
      "metadata": {
        "id": "stz1Nzy8Z4Ac"
      }
    },
    {
      "cell_type": "markdown",
      "source": [
        "The MIT-BIH Arrhythmia dataset (MIT-BIH-ARR) is mainly composed of 48 two-channel ambulatory ECG recordings sampled at 360Hz. Each recording lasts about 30 minutes. The data was gathered from 47 people. The participants were 25 men and 22 women, ranging in age from 32 to 89 years old. This dataset comprises recordings with various degrees of arrhythmias and also recordings with normal sinus rhythm. Professional reference annotations are included in each recording in the form of rhythm and beat annotations."
      ],
      "metadata": {
        "id": "WOF1G6B2qFCF"
      }
    },
    {
      "cell_type": "code",
      "source": [
        "data= '../input/mit-bih-arrhythmia-database/'"
      ],
      "metadata": {
        "id": "4HgT2RVgp9nF",
        "execution": {
          "iopub.status.busy": "2022-02-17T16:20:08.606553Z",
          "iopub.execute_input": "2022-02-17T16:20:08.607414Z",
          "iopub.status.idle": "2022-02-17T16:20:08.611961Z",
          "shell.execute_reply.started": "2022-02-17T16:20:08.607347Z",
          "shell.execute_reply": "2022-02-17T16:20:08.611042Z"
        },
        "trusted": true
      },
      "execution_count": null,
      "outputs": []
    },
    {
      "cell_type": "code",
      "source": [
        "# List of Patients\n",
        "patients = ['100','101','102','103','104','105','106','107',\n",
        "           '108','109','111','112','113','114','115','116',\n",
        "           '117','118','119','121','122','123','124','200',\n",
        "           '201','202','203','205','207','208','209','210',\n",
        "           '212','213','214','215','217','219','220','221',\n",
        "           '222','223','228','230','231','232','233','234']"
      ],
      "metadata": {
        "id": "uODzetx5qs8M",
        "execution": {
          "iopub.status.busy": "2022-02-17T16:20:10.205543Z",
          "iopub.execute_input": "2022-02-17T16:20:10.205847Z",
          "iopub.status.idle": "2022-02-17T16:20:10.212944Z",
          "shell.execute_reply.started": "2022-02-17T16:20:10.205817Z",
          "shell.execute_reply": "2022-02-17T16:20:10.211718Z"
        },
        "trusted": true
      },
      "execution_count": null,
      "outputs": []
    },
    {
      "cell_type": "code",
      "source": [
        "# Creating a Empty Dataframe\n",
        "dataframe = pd.DataFrame()"
      ],
      "metadata": {
        "id": "XZ7Ry8X1qhIu",
        "execution": {
          "iopub.status.busy": "2022-02-17T12:23:31.094923Z",
          "iopub.execute_input": "2022-02-17T12:23:31.095989Z",
          "iopub.status.idle": "2022-02-17T12:23:31.101699Z",
          "shell.execute_reply.started": "2022-02-17T12:23:31.09593Z",
          "shell.execute_reply": "2022-02-17T12:23:31.100433Z"
        },
        "trusted": true
      },
      "execution_count": null,
      "outputs": []
    },
    {
      "cell_type": "code",
      "source": [
        "# Reading all .atr files\n",
        "for pts in patients:\n",
        "    # Generating filepath for all .atr file names\n",
        "    file = data + pts\n",
        "    # Saving annotation object\n",
        "    annotation = wfdb.rdann(file, 'atr')\n",
        "    # Extracting symbols from the object\n",
        "    sym = annotation.symbol\n",
        "    # Saving value counts\n",
        "    values, counts = np.unique(sym, return_counts=True)\n",
        "    # Writing data points into dataframe\n",
        "    df_sub = pd.DataFrame({'symbol':values, 'Counts':counts, 'Patient Number':[pts]*len(counts)})\n",
        "    # Concatenating all data points\n",
        "    dataframe = pd.concat([dataframe, df_sub],axis = 0)"
      ],
      "metadata": {
        "id": "d8W9P2jquUM2",
        "execution": {
          "iopub.status.busy": "2022-02-17T10:26:47.541335Z",
          "iopub.execute_input": "2022-02-17T10:26:47.543585Z",
          "iopub.status.idle": "2022-02-17T10:26:50.614164Z",
          "shell.execute_reply.started": "2022-02-17T10:26:47.543441Z",
          "shell.execute_reply": "2022-02-17T10:26:50.613123Z"
        },
        "trusted": true
      },
      "execution_count": null,
      "outputs": []
    },
    {
      "cell_type": "code",
      "source": [
        "ax = sns.countplot(dataframe.symbol)"
      ],
      "metadata": {
        "id": "HNGqB0nl5jBT",
        "execution": {
          "iopub.status.busy": "2022-02-17T10:26:54.123112Z",
          "iopub.execute_input": "2022-02-17T10:26:54.123422Z",
          "iopub.status.idle": "2022-02-17T10:26:54.483793Z",
          "shell.execute_reply.started": "2022-02-17T10:26:54.12339Z",
          "shell.execute_reply": "2022-02-17T10:26:54.483058Z"
        },
        "trusted": true
      },
      "execution_count": null,
      "outputs": []
    },
    {
      "cell_type": "code",
      "source": [
        "dataframe"
      ],
      "metadata": {
        "id": "afkuXSAI3vWD",
        "execution": {
          "iopub.status.busy": "2022-02-17T10:26:57.775099Z",
          "iopub.execute_input": "2022-02-17T10:26:57.775587Z",
          "iopub.status.idle": "2022-02-17T10:26:57.792271Z",
          "shell.execute_reply.started": "2022-02-17T10:26:57.77555Z",
          "shell.execute_reply": "2022-02-17T10:26:57.791664Z"
        },
        "trusted": true
      },
      "execution_count": null,
      "outputs": []
    },
    {
      "cell_type": "code",
      "source": [
        "# Non Beat Symbols\n",
        "nonbeat = ['[','!',']','x','(',')','p','t','u','`',\n",
        "           '\\'','^','|','~','+','s','T','*','D','=','\"','@','Q','?']\n",
        "\n",
        "# Abnormal Beat Symbols\n",
        "abnormal = ['L','R','V','/','A','f','F','j','a','E','J','e','S']\n",
        "\n",
        "# Normal Beat Symbols\n",
        "normal = ['N']\n",
        ""
      ],
      "metadata": {
        "id": "s5wkRiGbqkTw",
        "execution": {
          "iopub.status.busy": "2022-02-17T16:20:15.810969Z",
          "iopub.execute_input": "2022-02-17T16:20:15.811618Z",
          "iopub.status.idle": "2022-02-17T16:20:15.817423Z",
          "shell.execute_reply.started": "2022-02-17T16:20:15.811573Z",
          "shell.execute_reply": "2022-02-17T16:20:15.816577Z"
        },
        "trusted": true
      },
      "execution_count": null,
      "outputs": []
    },
    {
      "cell_type": "code",
      "source": [
        "# Classifying normal, abnormal or nonbeat\n",
        "dataframe['category'] = -1\n",
        "dataframe.loc[dataframe.symbol == 'N','category'] = 0\n",
        "dataframe.loc[dataframe.symbol.isin(abnormal), 'category'] = 1\n",
        "\n",
        "dataframe.groupby('category').Counts.sum()"
      ],
      "metadata": {
        "id": "AYeN2yK-3_jZ",
        "execution": {
          "iopub.status.busy": "2022-02-17T09:54:49.393688Z",
          "iopub.execute_input": "2022-02-17T09:54:49.394755Z",
          "iopub.status.idle": "2022-02-17T09:54:49.412148Z",
          "shell.execute_reply.started": "2022-02-17T09:54:49.394704Z",
          "shell.execute_reply": "2022-02-17T09:54:49.411409Z"
        },
        "trusted": true
      },
      "execution_count": null,
      "outputs": []
    },
    {
      "cell_type": "code",
      "source": [
        "#removing the non-beat from dataframe\n",
        "dataframe = dataframe.loc[~((dataframe['category']==-1))]\n",
        "dataframe.groupby('category').Counts.sum()"
      ],
      "metadata": {
        "id": "5rf-zzaW4KzH",
        "execution": {
          "iopub.status.busy": "2022-02-17T09:54:52.085844Z",
          "iopub.execute_input": "2022-02-17T09:54:52.086274Z",
          "iopub.status.idle": "2022-02-17T09:54:52.095614Z",
          "shell.execute_reply.started": "2022-02-17T09:54:52.086244Z",
          "shell.execute_reply": "2022-02-17T09:54:52.094759Z"
        },
        "trusted": true
      },
      "execution_count": null,
      "outputs": []
    },
    {
      "cell_type": "code",
      "source": [
        "def load_ecg(file):\n",
        "    # load the ecg\n",
        "    record = wfdb.rdrecord(file)\n",
        "    # load the annotation\n",
        "    annotation = wfdb.rdann(file, 'atr')\n",
        "\n",
        "    # extracting the signal\n",
        "    p_signal = record.p_signal\n",
        "\n",
        "    # extracting symbols and annotation index\n",
        "    atr_sym = annotation.symbol\n",
        "    atr_sample = annotation.sample\n",
        "\n",
        "    return p_signal, atr_sym, atr_sample\n",
        ""
      ],
      "metadata": {
        "id": "ge5Ta_-k4NVU",
        "execution": {
          "iopub.status.busy": "2022-02-17T16:20:18.880594Z",
          "iopub.execute_input": "2022-02-17T16:20:18.881328Z",
          "iopub.status.idle": "2022-02-17T16:20:18.886914Z",
          "shell.execute_reply.started": "2022-02-17T16:20:18.881275Z",
          "shell.execute_reply": "2022-02-17T16:20:18.886123Z"
        },
        "trusted": true
      },
      "execution_count": null,
      "outputs": []
    },
    {
      "cell_type": "code",
      "source": [
        "def build_XY(p_signal, df_ann, num_cols, normal):\n",
        "    # this function builds the X,Y matrices for each beat\n",
        "    # it also returns the original symbols for Y\n",
        "\n",
        "    num_rows = len(df_ann)\n",
        "\n",
        "    X = np.zeros((num_rows, num_cols))\n",
        "    Y = np.zeros((num_rows,1))\n",
        "    sym = []\n",
        "\n",
        "    # keep track of rows\n",
        "    max_row = 0\n",
        "\n",
        "    for atr_sample, atr_sym in zip(df_ann.atr_sample.values,df_ann.atr_sym.values):\n",
        "\n",
        "        left = max([0,(atr_sample - num_sec*fs) ])\n",
        "        right = min([len(p_signal),(atr_sample + num_sec*fs) ])\n",
        "        x = p_signal[left: right]\n",
        "        if len(x) == num_cols:\n",
        "            X[max_row,:] = x\n",
        "            Y[max_row,:] = int(atr_sym in normal)\n",
        "            sym.append(atr_sym)\n",
        "            max_row += 1\n",
        "    X = X[:max_row,:]\n",
        "    Y = Y[:max_row,:]\n",
        "    return X,Y,sym"
      ],
      "metadata": {
        "id": "NqyejAih6WSN",
        "execution": {
          "iopub.status.busy": "2022-02-17T16:20:20.719209Z",
          "iopub.execute_input": "2022-02-17T16:20:20.719679Z",
          "iopub.status.idle": "2022-02-17T16:20:20.729873Z",
          "shell.execute_reply.started": "2022-02-17T16:20:20.719641Z",
          "shell.execute_reply": "2022-02-17T16:20:20.729155Z"
        },
        "trusted": true
      },
      "execution_count": null,
      "outputs": []
    },
    {
      "cell_type": "code",
      "source": [
        "# creating abnormal beat dataset\n",
        "def make_dataset(pts, num_sec, fs, abnormal):\n",
        "    # function for making dataset ignoring non-beats\n",
        "    # input:\n",
        "    #   pts - list of patients\n",
        "    #   num_sec = number of seconds to include before and after the beat\n",
        "    #   fs = frequency\n",
        "    # output:\n",
        "    #   X_all = signal (nbeats , num_sec * fs columns)\n",
        "    #   Y_all = binary is abnormal (nbeats, 1)\n",
        "    #   sym_all = beat annotation symbol (nbeats,1)\n",
        "\n",
        "    # initialize numpy arrays\n",
        "    num_cols = 2*num_sec * fs\n",
        "    X_all = np.zeros((1,num_cols))\n",
        "    Y_all = np.zeros((1,1))\n",
        "    sym_all = []\n",
        "\n",
        "    # list to keep track of number of beats across patients\n",
        "    max_rows = []\n",
        "\n",
        "    for pt in pts:\n",
        "        file = data + pt\n",
        "\n",
        "        p_signal, atr_sym, atr_sample = load_ecg(file)\n",
        "\n",
        "        # grab the first signal\n",
        "        p_signal = p_signal[:,0]\n",
        "\n",
        "        # make df to exclude the nonbeats\n",
        "        df_ann = pd.DataFrame({'atr_sym':atr_sym,\n",
        "                              'atr_sample':atr_sample})\n",
        "        df_ann = df_ann.loc[df_ann.atr_sym.isin(abnormal)]\n",
        "\n",
        "        X,Y,sym = build_XY(p_signal,df_ann, num_cols, abnormal)\n",
        "        sym_all = sym_all+sym\n",
        "        max_rows.append(X.shape[0])\n",
        "        X_all = np.append(X_all,X,axis = 0)\n",
        "        Y_all = np.append(Y_all,Y,axis = 0)\n",
        "\n",
        "    # drop the first zero row\n",
        "    X_all = X_all[1:,:]\n",
        "    Y_all = Y_all[1:,:]\n",
        "\n",
        "    return X_all, Y_all, sym_all"
      ],
      "metadata": {
        "id": "J7-c903eRSLF",
        "execution": {
          "iopub.status.busy": "2022-02-17T16:20:29.081559Z",
          "iopub.execute_input": "2022-02-17T16:20:29.082396Z",
          "iopub.status.idle": "2022-02-17T16:20:29.092261Z",
          "shell.execute_reply.started": "2022-02-17T16:20:29.082358Z",
          "shell.execute_reply": "2022-02-17T16:20:29.091275Z"
        },
        "trusted": true
      },
      "execution_count": null,
      "outputs": []
    },
    {
      "cell_type": "code",
      "source": [
        "# Parameter Values\n",
        "num_sec = 1\n",
        "fs = 360\n",
        "\n",
        "X_abnormal, Y_abnormal, sym_abnormal = make_dataset(patients, num_sec, fs, abnormal)"
      ],
      "metadata": {
        "id": "IvG_puYD6Y9w",
        "execution": {
          "iopub.status.busy": "2022-02-17T16:20:32.834206Z",
          "iopub.execute_input": "2022-02-17T16:20:32.834798Z",
          "iopub.status.idle": "2022-02-17T16:20:41.627971Z",
          "shell.execute_reply.started": "2022-02-17T16:20:32.834763Z",
          "shell.execute_reply": "2022-02-17T16:20:41.627217Z"
        },
        "trusted": true
      },
      "execution_count": null,
      "outputs": []
    },
    {
      "cell_type": "markdown",
      "source": [
        "## Normal ECG Data"
      ],
      "metadata": {
        "id": "-G1p3wegPHST"
      }
    },
    {
      "cell_type": "code",
      "source": [
        "data= '../input/mitbih-normal-sinus-rhythm-database/mit-bih-normal-sinus-rhythm-database-1.0.0/'"
      ],
      "metadata": {
        "id": "aziF3-fyPSPd",
        "execution": {
          "iopub.status.busy": "2022-02-17T16:21:08.623923Z",
          "iopub.execute_input": "2022-02-17T16:21:08.624517Z",
          "iopub.status.idle": "2022-02-17T16:21:08.628763Z",
          "shell.execute_reply.started": "2022-02-17T16:21:08.624463Z",
          "shell.execute_reply": "2022-02-17T16:21:08.627853Z"
        },
        "trusted": true
      },
      "execution_count": null,
      "outputs": []
    },
    {
      "cell_type": "markdown",
      "source": [
        "I chose two patients in order to have less computation time and less data."
      ],
      "metadata": {
        "id": "feGacO3P3nob"
      }
    },
    {
      "cell_type": "code",
      "source": [
        "patients = [\"16265\",\"16272\"]"
      ],
      "metadata": {
        "id": "H9CnjEXpPett",
        "execution": {
          "iopub.status.busy": "2022-02-17T16:21:09.953804Z",
          "iopub.execute_input": "2022-02-17T16:21:09.954094Z",
          "iopub.status.idle": "2022-02-17T16:21:09.958692Z",
          "shell.execute_reply.started": "2022-02-17T16:21:09.954065Z",
          "shell.execute_reply": "2022-02-17T16:21:09.957833Z"
        },
        "trusted": true
      },
      "execution_count": null,
      "outputs": []
    },
    {
      "cell_type": "code",
      "source": [
        "# creating normal beat dataset\n",
        "def make_dataset(pts, num_sec, fs, normal):\n",
        "    # function for making dataset ignoring non-beats\n",
        "    # input:\n",
        "    #   pts - list of patients\n",
        "    #   num_sec = number of seconds to include before and after the beat\n",
        "    #   fs = frequency\n",
        "    # output:\n",
        "    #   X_all = signal (nbeats , num_sec * fs columns)\n",
        "    #   Y_all = binary is abnormal (nbeats, 1)\n",
        "    #   sym_all = beat annotation symbol (nbeats,1)\n",
        "\n",
        "    # initialize numpy arrays\n",
        "    num_cols = 2*num_sec * fs\n",
        "    X_all = np.zeros((1,num_cols))\n",
        "    Y_all = np.zeros((1,1))\n",
        "    sym_all = []\n",
        "\n",
        "    # list to keep track of number of beats across patients\n",
        "    max_rows = []\n",
        "\n",
        "    for pt in pts:\n",
        "        file = data + pt\n",
        "\n",
        "        p_signal, atr_sym, atr_sample = load_ecg(file)\n",
        "\n",
        "        # grab the first signal\n",
        "        p_signal = p_signal[:,0]\n",
        "\n",
        "        # make df to exclude the nonbeats\n",
        "        df_ann = pd.DataFrame({'atr_sym':atr_sym,\n",
        "                              'atr_sample':atr_sample})\n",
        "        df_ann = df_ann.loc[df_ann.atr_sym.isin(normal)]\n",
        "\n",
        "        X,Y,sym = build_XY(p_signal,df_ann, num_cols, normal)\n",
        "        sym_all = sym_all+sym\n",
        "        max_rows.append(X.shape[0])\n",
        "        X_all = np.append(X_all,X,axis = 0)\n",
        "        Y_all = np.append(Y_all,Y,axis = 0)\n",
        "\n",
        "    # drop the first zero row\n",
        "    X_all = X_all[1:,:]\n",
        "    Y_all = Y_all[1:,:]\n",
        "\n",
        "    return X_all, Y_all, sym_all"
      ],
      "metadata": {
        "id": "RL6TlgAxPlxy",
        "execution": {
          "iopub.status.busy": "2022-02-17T16:21:11.523675Z",
          "iopub.execute_input": "2022-02-17T16:21:11.524358Z",
          "iopub.status.idle": "2022-02-17T16:21:11.536001Z",
          "shell.execute_reply.started": "2022-02-17T16:21:11.524312Z",
          "shell.execute_reply": "2022-02-17T16:21:11.535261Z"
        },
        "trusted": true
      },
      "execution_count": null,
      "outputs": []
    },
    {
      "cell_type": "code",
      "source": [
        "# Parameter Values\n",
        "num_sec = 1\n",
        "fs = 360\n",
        "\n",
        "X_normal, Y_normal, sym_normal = make_dataset(patients, num_sec, fs, normal)"
      ],
      "metadata": {
        "id": "wK1klZvsPry1",
        "execution": {
          "iopub.status.busy": "2022-02-17T16:21:13.819641Z",
          "iopub.execute_input": "2022-02-17T16:21:13.820463Z",
          "iopub.status.idle": "2022-02-17T16:21:23.746738Z",
          "shell.execute_reply.started": "2022-02-17T16:21:13.820412Z",
          "shell.execute_reply": "2022-02-17T16:21:23.745863Z"
        },
        "trusted": true
      },
      "execution_count": null,
      "outputs": []
    },
    {
      "cell_type": "markdown",
      "source": [
        "Too much normal sinus data so we should shrink the normal ECG data."
      ],
      "metadata": {
        "id": "occTklenTU5k"
      }
    },
    {
      "cell_type": "code",
      "source": [
        "X_normal = X_normal[0:34376,:]"
      ],
      "metadata": {
        "id": "gv7rT77nTRSH",
        "execution": {
          "iopub.status.busy": "2022-02-17T16:21:26.774311Z",
          "iopub.execute_input": "2022-02-17T16:21:26.774576Z",
          "iopub.status.idle": "2022-02-17T16:21:26.778733Z",
          "shell.execute_reply.started": "2022-02-17T16:21:26.774549Z",
          "shell.execute_reply": "2022-02-17T16:21:26.777818Z"
        },
        "trusted": true
      },
      "execution_count": null,
      "outputs": []
    },
    {
      "cell_type": "code",
      "source": [
        "Y_normal = np.zeros((34376, 1))"
      ],
      "metadata": {
        "id": "ArhJuj0HWgMC",
        "execution": {
          "iopub.status.busy": "2022-02-17T16:21:28.1196Z",
          "iopub.execute_input": "2022-02-17T16:21:28.119924Z",
          "iopub.status.idle": "2022-02-17T16:21:28.124709Z",
          "shell.execute_reply.started": "2022-02-17T16:21:28.119891Z",
          "shell.execute_reply": "2022-02-17T16:21:28.123849Z"
        },
        "trusted": true
      },
      "execution_count": null,
      "outputs": []
    },
    {
      "cell_type": "markdown",
      "source": [
        "We have abnormal and normal data and we are going to combine them together and transform these datasets into tensors then we will seperate these datasets into normal and anomaly train and test sets with the ratio 0.2."
      ],
      "metadata": {
        "id": "0-2cfOjrONWG"
      }
    },
    {
      "cell_type": "code",
      "source": [
        "X = np.append(X_normal,X_abnormal,axis=0)\n",
        "Y = np.append(Y_normal,Y_abnormal,axis=0)\n",
        "X = X[:,0:140]"
      ],
      "metadata": {
        "id": "fYd9GwyMTP3d",
        "execution": {
          "iopub.status.busy": "2022-02-17T16:21:29.475458Z",
          "iopub.execute_input": "2022-02-17T16:21:29.475753Z",
          "iopub.status.idle": "2022-02-17T16:21:29.628923Z",
          "shell.execute_reply.started": "2022-02-17T16:21:29.475722Z",
          "shell.execute_reply": "2022-02-17T16:21:29.627921Z"
        },
        "trusted": true
      },
      "execution_count": null,
      "outputs": []
    },
    {
      "cell_type": "code",
      "source": [
        "raw_data= np.append(X, Y, axis=1)\n",
        "raw_data = pd.DataFrame(raw_data)\n",
        "\n",
        "# The last element contains the labels\n",
        "labels = raw_data.iloc[: , -1]\n",
        "labels= labels.values\n",
        "# The other data points are the electrocadriogram data\n",
        "data = raw_data.iloc[:, 0:-1]\n",
        "data= data.values"
      ],
      "metadata": {
        "id": "cRnW1_Na8rk0",
        "execution": {
          "iopub.status.busy": "2022-02-17T16:21:30.996244Z",
          "iopub.execute_input": "2022-02-17T16:21:30.996618Z",
          "iopub.status.idle": "2022-02-17T16:21:31.036396Z",
          "shell.execute_reply.started": "2022-02-17T16:21:30.996581Z",
          "shell.execute_reply": "2022-02-17T16:21:31.035294Z"
        },
        "trusted": true
      },
      "execution_count": null,
      "outputs": []
    },
    {
      "cell_type": "markdown",
      "source": [
        "Normalize the data to [0,1] using MinMaxScaler from the sklearn preprocessing module."
      ],
      "metadata": {
        "id": "xZOxXJHoZPVX"
      }
    },
    {
      "cell_type": "code",
      "source": [
        "train_data, test_data, train_labels, test_labels = train_test_split(\n",
        "    data, labels, test_size=0.2, random_state=21)\n",
        "\n",
        "from sklearn.preprocessing import MinMaxScaler\n",
        "scaler = MinMaxScaler()\n",
        "scaler.fit(train_data)\n",
        "test_data = scaler.transform(test_data)\n",
        "train_data = scaler.transform(train_data)\n",
        "\n",
        "\n",
        "train_labels = train_labels.astype(bool)\n",
        "test_labels = test_labels.astype(bool)"
      ],
      "metadata": {
        "id": "A3M3mvwh831J",
        "execution": {
          "iopub.status.busy": "2022-02-17T16:21:32.799248Z",
          "iopub.execute_input": "2022-02-17T16:21:32.800099Z",
          "iopub.status.idle": "2022-02-17T16:21:32.964763Z",
          "shell.execute_reply.started": "2022-02-17T16:21:32.800054Z",
          "shell.execute_reply": "2022-02-17T16:21:32.963957Z"
        },
        "trusted": true
      },
      "execution_count": null,
      "outputs": []
    },
    {
      "cell_type": "code",
      "source": [
        "normal_train_data = train_data[~train_labels]\n",
        "normal_test_data = test_data[~test_labels]\n",
        "\n",
        "anomalous_train_data = train_data[train_labels]\n",
        "anomalous_test_data = test_data[test_labels]\n",
        "\n",
        "val_df, test_df = train_test_split(\n",
        "  test_data,\n",
        "  test_size=0.2,\n",
        "  random_state=42)"
      ],
      "metadata": {
        "id": "GLdHM2ry95Mc",
        "execution": {
          "iopub.status.busy": "2022-02-17T16:21:34.458532Z",
          "iopub.execute_input": "2022-02-17T16:21:34.45882Z",
          "iopub.status.idle": "2022-02-17T16:21:34.538009Z",
          "shell.execute_reply.started": "2022-02-17T16:21:34.458793Z",
          "shell.execute_reply": "2022-02-17T16:21:34.536989Z"
        },
        "trusted": true
      },
      "execution_count": null,
      "outputs": []
    },
    {
      "cell_type": "code",
      "source": [
        "test_labels =  ~test_labels"
      ],
      "metadata": {
        "id": "xPZaNVMbiQyl",
        "execution": {
          "iopub.status.busy": "2022-02-17T16:21:36.061848Z",
          "iopub.execute_input": "2022-02-17T16:21:36.062183Z",
          "iopub.status.idle": "2022-02-17T16:21:36.067002Z",
          "shell.execute_reply.started": "2022-02-17T16:21:36.062151Z",
          "shell.execute_reply": "2022-02-17T16:21:36.066115Z"
        },
        "trusted": true
      },
      "execution_count": null,
      "outputs": []
    },
    {
      "cell_type": "markdown",
      "source": [
        "Plot a normal ECG."
      ],
      "metadata": {
        "id": "t5ZTaRDxZboS"
      }
    },
    {
      "cell_type": "code",
      "source": [
        "plt.grid()\n",
        "plt.plot(np.arange(140), normal_train_data[0])\n",
        "plt.title(\"normal train data\")\n",
        "plt.show()\n",
        "\n",
        "plt.grid()\n",
        "plt.plot(np.arange(140), normal_test_data[543])\n",
        "plt.title(\"normal test data\")\n",
        "plt.show()"
      ],
      "metadata": {
        "id": "bzdVW6fC-FaY",
        "execution": {
          "iopub.status.busy": "2022-02-17T16:21:38.130404Z",
          "iopub.execute_input": "2022-02-17T16:21:38.130846Z",
          "iopub.status.idle": "2022-02-17T16:21:38.575259Z",
          "shell.execute_reply.started": "2022-02-17T16:21:38.130795Z",
          "shell.execute_reply": "2022-02-17T16:21:38.574367Z"
        },
        "trusted": true
      },
      "execution_count": null,
      "outputs": []
    },
    {
      "cell_type": "markdown",
      "source": [
        "Plot a abnormal ECG."
      ],
      "metadata": {
        "id": "67sB0tmWZgIL"
      }
    },
    {
      "cell_type": "code",
      "source": [
        "plt.grid()\n",
        "plt.plot(np.arange(140), anomalous_train_data[0])\n",
        "plt.title(\"anomalous train data\")\n",
        "plt.show()\n",
        "\n",
        "plt.grid()\n",
        "plt.plot(np.arange(140), anomalous_test_data[0])\n",
        "plt.title(\"anomalous test data\")\n",
        "plt.show()"
      ],
      "metadata": {
        "id": "jingLrhZZg1J",
        "execution": {
          "iopub.status.busy": "2022-02-17T10:29:07.567982Z",
          "iopub.execute_input": "2022-02-17T10:29:07.568838Z",
          "iopub.status.idle": "2022-02-17T10:29:07.893666Z",
          "shell.execute_reply.started": "2022-02-17T10:29:07.568789Z",
          "shell.execute_reply": "2022-02-17T10:29:07.892555Z"
        },
        "trusted": true
      },
      "execution_count": null,
      "outputs": []
    },
    {
      "cell_type": "markdown",
      "source": [
        "#Build the model"
      ],
      "metadata": {
        "id": "Hp25M8BbZsmA"
      }
    },
    {
      "cell_type": "markdown",
      "source": [
        "For this project, we will utilize the Autoencoder model. There are two parts to the Autoencoder architecture in general. Autoencoder model consists of dense layers with different number of neurons. The input is compressed by an encoder, and the output is decoded by a decoder."
      ],
      "metadata": {
        "id": "fbi95GSmOdt6"
      }
    },
    {
      "cell_type": "code",
      "source": [
        "class AnomalyDetector(Model):\n",
        "  def __init__(self):\n",
        "    super(AnomalyDetector, self).__init__()\n",
        "    self.encoder = tf.keras.Sequential([\n",
        "      layers.Dense(128, activation=\"relu\"),\n",
        "      layers.Dense(64, activation=\"relu\"),\n",
        "      layers.Dense(32, activation=\"relu\"),\n",
        "      layers.Dense(16, activation=\"relu\"),\n",
        "])\n",
        "    self.decoder = tf.keras.Sequential([\n",
        "\n",
        "      layers.Dense(16, activation=\"relu\"),\n",
        "      layers.Dense(32, activation=\"relu\"),\n",
        "      layers.Dense(64, activation=\"relu\"),\n",
        "      layers.Dense(128, activation=\"relu\"),\n",
        "      layers.Dense(140, activation=\"sigmoid\")])\n",
        "\n",
        "  def call(self, x):\n",
        "    encoded = self.encoder(x)\n",
        "    decoded = self.decoder(encoded)\n",
        "    return decoded\n",
        "\n",
        "autoencoder = AnomalyDetector()"
      ],
      "metadata": {
        "id": "baS4zwp3Zu-4",
        "execution": {
          "iopub.status.busy": "2022-02-17T16:21:41.946511Z",
          "iopub.execute_input": "2022-02-17T16:21:41.948256Z",
          "iopub.status.idle": "2022-02-17T16:21:42.078237Z",
          "shell.execute_reply.started": "2022-02-17T16:21:41.948187Z",
          "shell.execute_reply": "2022-02-17T16:21:42.077552Z"
        },
        "trusted": true
      },
      "execution_count": null,
      "outputs": []
    },
    {
      "cell_type": "code",
      "source": [
        "autoencoder.compile(\"adam\", loss=\"mean_absolute_error\")"
      ],
      "metadata": {
        "id": "0_7nOY6teyru",
        "execution": {
          "iopub.status.busy": "2022-02-17T16:21:44.493385Z",
          "iopub.execute_input": "2022-02-17T16:21:44.494239Z",
          "iopub.status.idle": "2022-02-17T16:21:44.520512Z",
          "shell.execute_reply.started": "2022-02-17T16:21:44.494197Z",
          "shell.execute_reply": "2022-02-17T16:21:44.519596Z"
        },
        "trusted": true
      },
      "execution_count": null,
      "outputs": []
    },
    {
      "cell_type": "markdown",
      "source": [
        "Result at the 1500 epoch and 128 batch size, where the model achieve consistently strong results."
      ],
      "metadata": {
        "id": "lfSvY9soOm-a"
      }
    },
    {
      "cell_type": "code",
      "source": [
        "history = autoencoder.fit(normal_train_data, normal_train_data,\n",
        "          epochs=1500,\n",
        "          batch_size=128,\n",
        "          validation_data=(normal_test_data, normal_test_data),\n",
        "          shuffle=True)"
      ],
      "metadata": {
        "id": "uvDQg19eQO3U",
        "execution": {
          "iopub.status.busy": "2022-02-17T16:21:47.305658Z",
          "iopub.execute_input": "2022-02-17T16:21:47.306143Z",
          "iopub.status.idle": "2022-02-17T16:55:50.83568Z",
          "shell.execute_reply.started": "2022-02-17T16:21:47.306089Z",
          "shell.execute_reply": "2022-02-17T16:55:50.834694Z"
        },
        "trusted": true
      },
      "execution_count": null,
      "outputs": []
    },
    {
      "cell_type": "code",
      "source": [
        "plt.plot(history.history[\"loss\"], label=\"Training Loss\")\n",
        "plt.plot(history.history[\"val_loss\"], label=\"Validation Loss\")\n",
        "plt.legend()"
      ],
      "metadata": {
        "id": "2u5_8QAZkWb4",
        "execution": {
          "iopub.status.busy": "2022-02-17T17:01:55.538341Z",
          "iopub.execute_input": "2022-02-17T17:01:55.538682Z",
          "iopub.status.idle": "2022-02-17T17:01:55.811185Z",
          "shell.execute_reply.started": "2022-02-17T17:01:55.538651Z",
          "shell.execute_reply": "2022-02-17T17:01:55.810228Z"
        },
        "trusted": true
      },
      "execution_count": null,
      "outputs": []
    },
    {
      "cell_type": "markdown",
      "source": [
        "If the reconstruction error is larger than one standard deviation from normal training samples, we will shortly label an ECG as abnormal. Let's start with a normal ECG from the training set, then the reconstruction after the autoencoder has encoded and decoded it, also the reconstruction error."
      ],
      "metadata": {
        "id": "n9qpt-6gOySu"
      }
    },
    {
      "cell_type": "code",
      "source": [
        "encoded_data = autoencoder.encoder(normal_test_data).numpy()\n",
        "decoded_data = autoencoder.decoder(encoded_data).numpy()\n",
        "\n",
        "plt.plot(normal_test_data[0], 'b')\n",
        "plt.plot(decoded_data[0], 'r')\n",
        "plt.fill_between(np.arange(140), decoded_data[0], normal_test_data[0], color='lightcoral')\n",
        "plt.legend(labels=[\"Input\", \"Reconstruction\", \"Error\"])\n",
        "plt.show()"
      ],
      "metadata": {
        "id": "KgwxATTl5bLt",
        "execution": {
          "iopub.status.busy": "2022-02-17T17:01:58.456171Z",
          "iopub.execute_input": "2022-02-17T17:01:58.456558Z",
          "iopub.status.idle": "2022-02-17T17:01:58.754945Z",
          "shell.execute_reply.started": "2022-02-17T17:01:58.456522Z",
          "shell.execute_reply": "2022-02-17T17:01:58.754047Z"
        },
        "trusted": true
      },
      "execution_count": null,
      "outputs": []
    },
    {
      "cell_type": "markdown",
      "source": [
        "# Anomaly Detection"
      ],
      "metadata": {
        "id": "elQ_3YFEO_Nm"
      }
    },
    {
      "cell_type": "markdown",
      "source": [
        "Calculate whether the reconstruction loss is larger than the defined threshold to detect abnormalities. In this section, you'll calculate the mean average error for normal cases in the training set, and then classify future examples as abnormal if the reconstruction error exceeds the training dataset's standard deviation. Plot the reconstruction error on the training set's normal ECGs."
      ],
      "metadata": {
        "id": "je366F7XPEEG"
      }
    },
    {
      "cell_type": "code",
      "source": [
        "encoded_data = autoencoder.encoder(anomalous_test_data).numpy()\n",
        "decoded_data = autoencoder.decoder(encoded_data).numpy()\n",
        "\n",
        "plt.plot(anomalous_test_data[0], 'b')\n",
        "plt.plot(decoded_data[0], 'r')\n",
        "plt.fill_between(np.arange(140), decoded_data[0], anomalous_test_data[0], color='lightcoral')\n",
        "plt.legend(labels=[\"Input\", \"Reconstruction\", \"Error\"])\n",
        "plt.show()"
      ],
      "metadata": {
        "id": "VcEWyxy35fyh",
        "execution": {
          "iopub.status.busy": "2022-02-17T17:02:01.268061Z",
          "iopub.execute_input": "2022-02-17T17:02:01.268403Z",
          "iopub.status.idle": "2022-02-17T17:02:01.533063Z",
          "shell.execute_reply.started": "2022-02-17T17:02:01.268365Z",
          "shell.execute_reply": "2022-02-17T17:02:01.532024Z"
        },
        "trusted": true
      },
      "execution_count": null,
      "outputs": []
    },
    {
      "cell_type": "code",
      "source": [
        "reconstructions = autoencoder.predict(normal_train_data)\n",
        "train_loss = tf.keras.losses.mae(reconstructions, normal_train_data)\n",
        "\n",
        "plt.hist(train_loss[None,:], bins=50)\n",
        "plt.xlabel(\"Train loss\")\n",
        "plt.ylabel(\"No of examples\")\n",
        "plt.show()"
      ],
      "metadata": {
        "id": "8PAv_wnL5p-C",
        "execution": {
          "iopub.status.busy": "2022-02-17T17:02:03.806849Z",
          "iopub.execute_input": "2022-02-17T17:02:03.807694Z",
          "iopub.status.idle": "2022-02-17T17:02:06.2186Z",
          "shell.execute_reply.started": "2022-02-17T17:02:03.807645Z",
          "shell.execute_reply": "2022-02-17T17:02:06.217633Z"
        },
        "trusted": true
      },
      "execution_count": null,
      "outputs": []
    },
    {
      "cell_type": "code",
      "source": [
        "threshold = np.mean(train_loss) + np.std(train_loss)\n",
        "print(\"Threshold: \", threshold)"
      ],
      "metadata": {
        "id": "8M2OyLwI5utv",
        "execution": {
          "iopub.status.busy": "2022-02-17T17:02:09.703857Z",
          "iopub.execute_input": "2022-02-17T17:02:09.70444Z",
          "iopub.status.idle": "2022-02-17T17:02:09.710893Z",
          "shell.execute_reply.started": "2022-02-17T17:02:09.704398Z",
          "shell.execute_reply": "2022-02-17T17:02:09.710086Z"
        },
        "trusted": true
      },
      "execution_count": null,
      "outputs": []
    },
    {
      "cell_type": "markdown",
      "source": [
        "When we look at the reconstruction error for the anomalous examples in the test set, we can see that the majority have a higher reconstruction error than the threshold. We may improve your classifier's precision and recall by adjusting the threshold."
      ],
      "metadata": {
        "id": "knDB5WbTPL-Z"
      }
    },
    {
      "cell_type": "code",
      "source": [
        "reconstructions = autoencoder.predict(anomalous_test_data)\n",
        "test_loss = tf.keras.losses.mae(reconstructions, anomalous_test_data)\n",
        "\n",
        "plt.hist(test_loss[None, :], bins=50)\n",
        "plt.xlabel(\"Test loss\")\n",
        "plt.ylabel(\"No of examples\")\n",
        "plt.show()"
      ],
      "metadata": {
        "id": "pd4ayWx35xJX",
        "execution": {
          "iopub.status.busy": "2022-02-17T17:02:11.331666Z",
          "iopub.execute_input": "2022-02-17T17:02:11.33209Z",
          "iopub.status.idle": "2022-02-17T17:02:12.180631Z",
          "shell.execute_reply.started": "2022-02-17T17:02:11.332041Z",
          "shell.execute_reply": "2022-02-17T17:02:12.179603Z"
        },
        "trusted": true
      },
      "execution_count": null,
      "outputs": []
    },
    {
      "cell_type": "code",
      "source": [
        "def predict(model, data, threshold):\n",
        "  reconstructions = model(data)\n",
        "  loss = tf.keras.losses.mae(reconstructions, data)\n",
        "  return tf.math.less(loss, threshold)\n",
        "\n",
        "def print_stats(predictions, labels):\n",
        "  print(\"Accuracy = {}\".format(accuracy_score(labels, predictions)))\n",
        "  print(\"Precision = {}\".format(precision_score(labels, predictions)))\n",
        "  print(\"Recall = {}\".format(recall_score(labels, predictions)))\n",
        "#test_data = test_data. numpy()"
      ],
      "metadata": {
        "id": "auRp2Ogh5zjl",
        "execution": {
          "iopub.status.busy": "2022-02-17T17:02:13.567694Z",
          "iopub.execute_input": "2022-02-17T17:02:13.567996Z",
          "iopub.status.idle": "2022-02-17T17:02:13.574368Z",
          "shell.execute_reply.started": "2022-02-17T17:02:13.567959Z",
          "shell.execute_reply": "2022-02-17T17:02:13.573633Z"
        },
        "trusted": true
      },
      "execution_count": null,
      "outputs": []
    },
    {
      "cell_type": "code",
      "source": [
        "preds = predict(autoencoder, test_data, threshold)\n",
        "print_stats(preds, test_labels)"
      ],
      "metadata": {
        "id": "x3LTAm_e5239",
        "execution": {
          "iopub.status.busy": "2022-02-17T17:02:15.063349Z",
          "iopub.execute_input": "2022-02-17T17:02:15.06409Z",
          "iopub.status.idle": "2022-02-17T17:02:15.139652Z",
          "shell.execute_reply.started": "2022-02-17T17:02:15.064052Z",
          "shell.execute_reply": "2022-02-17T17:02:15.138843Z"
        },
        "trusted": true
      },
      "execution_count": null,
      "outputs": []
    },
    {
      "cell_type": "code",
      "source": [
        "reconstructions = autoencoder.predict(anomalous_test_data)\n",
        "train_loss = tf.keras.losses.mae(reconstructions, anomalous_test_data)\n",
        "sns.distplot(train_loss, bins=50, kde=True);"
      ],
      "metadata": {
        "id": "scSajbhP6RSU",
        "execution": {
          "iopub.status.busy": "2022-02-17T17:02:17.311173Z",
          "iopub.execute_input": "2022-02-17T17:02:17.311465Z",
          "iopub.status.idle": "2022-02-17T17:02:18.183871Z",
          "shell.execute_reply.started": "2022-02-17T17:02:17.311434Z",
          "shell.execute_reply": "2022-02-17T17:02:18.182834Z"
        },
        "trusted": true
      },
      "execution_count": null,
      "outputs": []
    },
    {
      "cell_type": "markdown",
      "source": [
        "Furthermore, we can count the number of examples that exceed the threshold (we will consider as anomalies)"
      ],
      "metadata": {
        "id": "sNZYDzmGPTZV"
      }
    },
    {
      "cell_type": "code",
      "source": [
        "reconstructions = autoencoder.predict(normal_test_data)\n",
        "pred_loss = tf.keras.losses.mae(reconstructions, normal_test_data)\n",
        "\n",
        "pred_loss = pred_loss.numpy()\n",
        "correct = sum(l <= threshold for l in pred_loss)\n",
        "print(f'Correct normal predictions: {correct}/{len(normal_test_data)}')"
      ],
      "metadata": {
        "id": "y22kGwJ76Vut",
        "execution": {
          "iopub.status.busy": "2022-02-17T17:02:20.661743Z",
          "iopub.execute_input": "2022-02-17T17:02:20.662027Z",
          "iopub.status.idle": "2022-02-17T17:02:21.208967Z",
          "shell.execute_reply.started": "2022-02-17T17:02:20.661998Z",
          "shell.execute_reply": "2022-02-17T17:02:21.208057Z"
        },
        "trusted": true
      },
      "execution_count": null,
      "outputs": []
    },
    {
      "cell_type": "code",
      "source": [
        "reconstructions = autoencoder.predict(anomalous_test_data)\n",
        "train_loss = tf.keras.losses.mae(reconstructions, anomalous_test_data)\n",
        "train_loss = train_loss.numpy()\n",
        "correct = sum(l > threshold for l in train_loss)\n",
        "print(f'Correct anomaly predictions: {correct}/{len(anomalous_test_data)}')"
      ],
      "metadata": {
        "id": "lv8qS1jP68EM",
        "execution": {
          "iopub.status.busy": "2022-02-17T17:02:22.73394Z",
          "iopub.execute_input": "2022-02-17T17:02:22.734658Z",
          "iopub.status.idle": "2022-02-17T17:02:23.244027Z",
          "shell.execute_reply.started": "2022-02-17T17:02:22.73461Z",
          "shell.execute_reply": "2022-02-17T17:02:23.243069Z"
        },
        "trusted": true
      },
      "execution_count": null,
      "outputs": []
    },
    {
      "cell_type": "code",
      "source": [
        "def plot_prediction_normal(i,data, model, title, ax):\n",
        "    encoded_data = autoencoder.encoder(data).numpy()\n",
        "    decoded_data = autoencoder.decoder(encoded_data).numpy()\n",
        "    ax.axis([0, 140, 0, 1])\n",
        "\n",
        "    ax.plot(data[i], label='true')\n",
        "    ax.plot(decoded_data[i], label='reconstructed')\n",
        "    ax.set_title(f'{title} (loss: {np.around(1000*pred_loss[i], 2)})')\n",
        "    ax.legend()\n",
        "\n",
        "def plot_prediction_anomaly(i,data, model, title, ax):\n",
        "    encoded_data = autoencoder.encoder(data).numpy()\n",
        "    decoded_data = autoencoder.decoder(encoded_data).numpy()\n",
        "    ax.axis([0, 140, 0, 1])\n",
        "\n",
        "    ax.plot(data[i], label='true')\n",
        "    ax.plot(decoded_data[i], label='reconstructed')\n",
        "    ax.set_title(f'{title} (loss: {np.around(1000*train_loss[i], 2)})')\n",
        "    ax.legend()"
      ],
      "metadata": {
        "id": "W_dG7GD67xqC",
        "execution": {
          "iopub.status.busy": "2022-02-17T17:02:25.720056Z",
          "iopub.execute_input": "2022-02-17T17:02:25.720915Z",
          "iopub.status.idle": "2022-02-17T17:02:25.729771Z",
          "shell.execute_reply.started": "2022-02-17T17:02:25.720869Z",
          "shell.execute_reply": "2022-02-17T17:02:25.728886Z"
        },
        "trusted": true
      },
      "execution_count": null,
      "outputs": []
    },
    {
      "cell_type": "code",
      "source": [
        "fig, axs = plt.subplots(\n",
        "  nrows=2,\n",
        "  ncols=5,\n",
        "  figsize=(22, 8)\n",
        ")\n",
        "for i in range(5) :\n",
        "  plot_prediction_normal(i,normal_test_data, autoencoder, title='Normal', ax=axs[0, i])\n",
        "\n",
        "for i in range(5) :\n",
        "  plot_prediction_anomaly(i,anomalous_test_data, autoencoder, title='Anomaly', ax=axs[1, i])\n",
        "fig.tight_layout();"
      ],
      "metadata": {
        "id": "eawm2Cp_73Q5",
        "execution": {
          "iopub.status.busy": "2022-02-17T17:02:28.429229Z",
          "iopub.execute_input": "2022-02-17T17:02:28.429518Z",
          "iopub.status.idle": "2022-02-17T17:02:30.590412Z",
          "shell.execute_reply.started": "2022-02-17T17:02:28.429488Z",
          "shell.execute_reply": "2022-02-17T17:02:30.589505Z"
        },
        "trusted": true
      },
      "execution_count": null,
      "outputs": []
    },
    {
      "cell_type": "markdown",
      "source": [
        "This project provides the results of an unsupervised anomaly detection for ECG data  which is performed on MIT-BIH Arrhythmia Dataset and MIT-BIH Normal Sinus Rhythm Dataset. Although the findings are promising, there is certainly potential for improvement. Future projects might include: more complex model and different type of wavelet and more data to detect anomalies."
      ],
      "metadata": {
        "id": "Q11LmfbvPjFs"
      }
    }
  ]
}